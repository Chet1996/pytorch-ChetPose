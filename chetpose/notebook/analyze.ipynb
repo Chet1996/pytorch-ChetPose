{
 "cells": [
  {
   "cell_type": "code",
   "execution_count": 25,
   "metadata": {},
   "outputs": [],
   "source": [
    "import sys\n",
    "sys.path.append('..')\n",
    "import torch\n",
    "import torch.nn as nn\n",
    "import numpy as np"
   ]
  },
  {
   "cell_type": "code",
   "execution_count": 38,
   "metadata": {},
   "outputs": [],
   "source": [
    "class Focal2DLoss(nn.Module):\n",
    "    def __init__(self, alpha=0.98, gamma=2):\n",
    "        super(Focal2DLoss, self).__init__()\n",
    "        self.base_criterion = nn.MSELoss()\n",
    "        self.alpha = alpha\n",
    "        self.gamma = gamma\n",
    "        \n",
    "    def forward(self, logit, label):\n",
    "        pos_label = label\n",
    "        pos_logit = logit * pos_label\n",
    "        pos_beta = (pos_label.sum().item() - pos_logit.sum().item()) / (pos_label.sum().item() + 1e-5)\n",
    "        pos_loss = self.alpha * (pos_beta ** self.gamma) * self.base_criterion(pos_logit, pos_label)\n",
    "        \n",
    "        neg_label = 1 - label\n",
    "        neg_logit = logit * neg_label\n",
    "        neg_beta = 1 - (neg_label.sum().item() - neg_logit.sum().item()) / (neg_label.sum().item() + 1e-5)\n",
    "        neg_loss = (1 - self.alpha) * (neg_beta ** self.gamma) * self.base_criterion(neg_logit + label, label)\n",
    "        \n",
    "        return pos_loss, neg_loss"
   ]
  },
  {
   "cell_type": "code",
   "execution_count": 63,
   "metadata": {},
   "outputs": [
    {
     "data": {
      "text/plain": [
       "tensor([[0.5000, 0.5000, 0.5000, 0.5000, 0.5000, 0.5000, 0.5000],\n",
       "        [0.5000, 0.5000, 0.5000, 0.5000, 0.5000, 0.5000, 0.5000],\n",
       "        [0.5000, 0.5000, 0.5000, 0.5000, 0.5000, 0.5000, 0.5000],\n",
       "        [0.5000, 0.5000, 0.5000, 0.5000, 0.5000, 0.5000, 0.5000],\n",
       "        [0.5000, 0.5000, 0.5000, 0.5000, 0.5000, 0.5000, 0.5000],\n",
       "        [0.5000, 0.5000, 0.5000, 0.5000, 0.5000, 0.5000, 0.5000],\n",
       "        [0.5000, 0.5000, 0.5000, 0.5000, 0.5000, 0.5000, 0.5000]])"
      ]
     },
     "execution_count": 63,
     "metadata": {},
     "output_type": "execute_result"
    }
   ],
   "source": [
    "logit = torch.ones((7, 7)) * 0.5\n",
    "logit"
   ]
  },
  {
   "cell_type": "code",
   "execution_count": 64,
   "metadata": {},
   "outputs": [
    {
     "data": {
      "text/plain": [
       "tensor([[0., 0., 0., 0., 0., 0., 0.],\n",
       "        [0., 0., 0., 0., 0., 0., 0.],\n",
       "        [0., 0., 0., 1., 0., 0., 0.],\n",
       "        [0., 0., 0., 0., 0., 0., 0.],\n",
       "        [0., 0., 0., 0., 0., 0., 0.],\n",
       "        [0., 0., 0., 0., 0., 0., 0.],\n",
       "        [0., 0., 0., 0., 0., 0., 0.]])"
      ]
     },
     "execution_count": 64,
     "metadata": {},
     "output_type": "execute_result"
    }
   ],
   "source": [
    "label = torch.zeros((7, 7))\n",
    "label[2][3] = 1\n",
    "label"
   ]
  },
  {
   "cell_type": "code",
   "execution_count": 65,
   "metadata": {},
   "outputs": [
    {
     "name": "stdout",
     "output_type": "stream",
     "text": [
      "pos_loss: 0.6931471824645996 | neg_loss: 33.271080017089844 | neg_loss/pos_loss: 48.00002201377925\n"
     ]
    }
   ],
   "source": [
    "base_criterion = nn.BCELoss(reduction='none')\n",
    "base_loss = base_criterion(logit, label)\n",
    "pos_loss = base_loss * label\n",
    "neg_loss = base_loss * (1 - label)\n",
    "print('pos_loss: {} | neg_loss: {} | neg_loss/pos_loss: {}'.format(pos_loss.sum().item(), neg_loss.sum().item(), neg_loss.sum().item()/pos_loss.sum().item()))"
   ]
  },
  {
   "cell_type": "code",
   "execution_count": 66,
   "metadata": {},
   "outputs": [
    {
     "name": "stdout",
     "output_type": "stream",
     "text": [
      "pos_loss: 0.00124997494276613 | neg_loss: 0.0012244903482496738 | neg_loss/pos_loss: 0.9796119156916377\n"
     ]
    }
   ],
   "source": [
    "improve_criterion = Focal2DLoss()\n",
    "pos_loss, neg_loss = improve_criterion(logit, label)\n",
    "print('pos_loss: {} | neg_loss: {} | neg_loss/pos_loss: {}'.format(pos_loss.sum().item(), neg_loss.sum().item(), neg_loss.sum().item()/pos_loss.sum().item()))"
   ]
  },
  {
   "cell_type": "code",
   "execution_count": null,
   "metadata": {},
   "outputs": [],
   "source": []
  }
 ],
 "metadata": {
  "kernelspec": {
   "display_name": "Python 3",
   "language": "python",
   "name": "python3"
  },
  "language_info": {
   "codemirror_mode": {
    "name": "ipython",
    "version": 3
   },
   "file_extension": ".py",
   "mimetype": "text/x-python",
   "name": "python",
   "nbconvert_exporter": "python",
   "pygments_lexer": "ipython3",
   "version": "3.5.2"
  }
 },
 "nbformat": 4,
 "nbformat_minor": 2
}
